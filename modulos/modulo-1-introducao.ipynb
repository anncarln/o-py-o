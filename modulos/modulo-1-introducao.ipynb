{
  "nbformat": 4,
  "nbformat_minor": 0,
  "metadata": {
    "kernelspec": {
      "display_name": "Python 3",
      "language": "python",
      "name": "python3"
    },
    "language_info": {
      "codemirror_mode": {
        "name": "ipython",
        "version": 3
      },
      "file_extension": ".py",
      "mimetype": "text/x-python",
      "name": "python",
      "nbconvert_exporter": "python",
      "pygments_lexer": "ipython3",
      "version": "3.6.10"
    },
    "colab": {
      "name": "modulo-1-introducao.ipynb",
      "provenance": []
    }
  },
  "cells": [
    {
      "cell_type": "markdown",
      "metadata": {
        "id": "N-djjlMofs5b",
        "colab_type": "text"
      },
      "source": [
        "<img src=\"https://github.com/anncarln/o-py-o/blob/master/imagens/1.png?raw=1\">\n",
        "\n",
        "## Revisando o conteúdo da semana!\n",
        "\n",
        "# Anna Carolina"
      ]
    },
    {
      "cell_type": "markdown",
      "metadata": {
        "id": "hZ3rzijvfs5r",
        "colab_type": "text"
      },
      "source": [
        "1 - Em uma instrução print, o que acontece se você omitir um dos parênteses ou ambos?"
      ]
    },
    {
      "cell_type": "code",
      "metadata": {
        "id": "BYuIPQacfs5z",
        "colab_type": "code",
        "colab": {}
      },
      "source": [
        ""
      ],
      "execution_count": null,
      "outputs": []
    },
    {
      "cell_type": "markdown",
      "metadata": {
        "id": "3g8a0Phyfs6H",
        "colab_type": "text"
      },
      "source": [
        "2 - O que acontece se puser um sinal de mais antes de um número? E se escrever assim: 2++2?"
      ]
    },
    {
      "cell_type": "code",
      "metadata": {
        "id": "t65bouoefs6I",
        "colab_type": "code",
        "colab": {}
      },
      "source": [
        ""
      ],
      "execution_count": null,
      "outputs": []
    },
    {
      "cell_type": "markdown",
      "metadata": {
        "id": "87I1CoEpfs6X",
        "colab_type": "text"
      },
      "source": [
        "3 - O que acontece se você tentar usar 02 isso no Python?"
      ]
    },
    {
      "cell_type": "code",
      "metadata": {
        "id": "z810X-I1fs6Y",
        "colab_type": "code",
        "colab": {}
      },
      "source": [
        ""
      ],
      "execution_count": null,
      "outputs": []
    },
    {
      "cell_type": "markdown",
      "metadata": {
        "id": "kshbY0n0fs6p",
        "colab_type": "text"
      },
      "source": [
        "4 - Quantos segundos há em 42 minutos e 42 segundos?"
      ]
    },
    {
      "cell_type": "code",
      "metadata": {
        "id": "bJCYC4Vffs6r",
        "colab_type": "code",
        "colab": {}
      },
      "source": [
        ""
      ],
      "execution_count": null,
      "outputs": []
    },
    {
      "cell_type": "markdown",
      "metadata": {
        "id": "qxPdaUp6fs7P",
        "colab_type": "text"
      },
      "source": [
        "5 - Vimos que n = 42 é legal. E 42 = n?"
      ]
    },
    {
      "cell_type": "code",
      "metadata": {
        "id": "GLgLDwuXfs7W",
        "colab_type": "code",
        "colab": {}
      },
      "source": [
        ""
      ],
      "execution_count": null,
      "outputs": []
    },
    {
      "cell_type": "markdown",
      "metadata": {
        "id": "dnd4w3a5fs7w",
        "colab_type": "text"
      },
      "source": [
        "6 - Ou x = y = 1?\n"
      ]
    },
    {
      "cell_type": "code",
      "metadata": {
        "id": "1Jk-akzgfs70",
        "colab_type": "code",
        "colab": {}
      },
      "source": [
        ""
      ],
      "execution_count": null,
      "outputs": []
    },
    {
      "cell_type": "markdown",
      "metadata": {
        "id": "W059baa8fs8A",
        "colab_type": "text"
      },
      "source": [
        "7 - O que acontece se você puser um ponto e vírgula no fim de uma instrução no Python? E um ponto?"
      ]
    },
    {
      "cell_type": "code",
      "metadata": {
        "id": "h-DUhN2Efs8C",
        "colab_type": "code",
        "colab": {}
      },
      "source": [
        ""
      ],
      "execution_count": null,
      "outputs": []
    },
    {
      "cell_type": "markdown",
      "metadata": {
        "id": "l5YdLmmWfs8r",
        "colab_type": "text"
      },
      "source": [
        "8 - Em notação matemática é possível multiplicar x e y desta forma: xy. O que acontece se você tentar fazer o mesmo no Python?"
      ]
    },
    {
      "cell_type": "code",
      "metadata": {
        "id": "EXXg-ckrfs8s",
        "colab_type": "code",
        "colab": {}
      },
      "source": [
        ""
      ],
      "execution_count": null,
      "outputs": []
    },
    {
      "cell_type": "markdown",
      "metadata": {
        "id": "keuQhiF_fs9J",
        "colab_type": "text"
      },
      "source": [
        "---"
      ]
    },
    {
      "cell_type": "markdown",
      "metadata": {
        "id": "53kKZY1dfs9L",
        "colab_type": "text"
      },
      "source": [
        "## Quais são as outras formas de praticar esses conceitos?\n",
        "\n",
        "<img src=\"https://media.giphy.com/media/2wS8Hh619rZvvf95op/giphy.gif\" align=\"left\">"
      ]
    },
    {
      "cell_type": "markdown",
      "metadata": {
        "id": "IsQgr9zAfs9N",
        "colab_type": "text"
      },
      "source": [
        "<Adicionar atividade de sua preferência para aplicação dos conceitos>"
      ]
    }
  ]
}